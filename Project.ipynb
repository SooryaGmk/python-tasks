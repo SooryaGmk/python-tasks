{
  "cells": [
    {
      "cell_type": "markdown",
      "metadata": {
        "id": "view-in-github",
        "colab_type": "text"
      },
      "source": [
        "<a href=\"https://colab.research.google.com/github/SooryaGmk/python-tasks/blob/main/Project.ipynb\" target=\"_parent\"><img src=\"https://colab.research.google.com/assets/colab-badge.svg\" alt=\"Open In Colab\"/></a>"
      ]
    },
    {
      "cell_type": "code",
      "execution_count": null,
      "metadata": {
        "colab": {
          "background_save": true,
          "base_uri": "https://localhost:8080/"
        },
        "id": "R5wPVGY-XSLT",
        "outputId": "191e3f71-9075-43bd-e0ec-832da7fdacff"
      },
      "outputs": [
        {
          "name": "stdout",
          "output_type": "stream",
          "text": [
            "Options:\n",
            "Enter 'add' for addition\n",
            "Enter 'subtract' for subtraction\n",
            "Enter 'multiply' for multiplication\n",
            "Enter 'divide' for division\n",
            "Enter 'quit' to end the program\n"
          ]
        }
      ],
      "source": [
        "# calculator\n",
        "def add(x, y):\n",
        "    return x + y\n",
        "\n",
        "def subtract(x, y):\n",
        "    return x - y\n",
        "\n",
        "def multiply(x, y):\n",
        "    return x * y\n",
        "\n",
        "def divide(x, y):\n",
        "    if y == 0:\n",
        "        return \"Cannot divide by zero\"\n",
        "    return x / y\n",
        "\n",
        "while True:\n",
        "    print(\"Options:\")\n",
        "    print(\"Enter 'add' for addition\")\n",
        "    print(\"Enter 'subtract' for subtraction\")\n",
        "    print(\"Enter 'multiply' for multiplication\")\n",
        "    print(\"Enter 'divide' for division\")\n",
        "    print(\"Enter 'quit' to end the program\")\n",
        "\n",
        "    user_input = input(\": \")\n",
        "\n",
        "    if user_input == \"quit\":\n",
        "        break\n",
        "    elif user_input in (\"add\", \"subtract\", \"multiply\", \"divide\"):\n",
        "        num1 = float(input(\"Enter first number: \"))\n",
        "        num2 = float(input(\"Enter second number: \"))\n",
        "\n",
        "        if user_input == \"add\":\n",
        "            print(\"Result: \", add(num1, num2))\n",
        "        elif user_input == \"subtract\":\n",
        "            print(\"Result: \", subtract(num1, num2))\n",
        "        elif user_input == \"multiply\":\n",
        "            print(\"Result: \", multiply(num1, num2))\n",
        "        elif user_input == \"divide\":\n",
        "            print(\"Result: \", divide(num1, num2))\n",
        "    else:\n",
        "        print(\"Invalid input. Please try again.\")\n"
      ]
    },
    {
      "cell_type": "code",
      "execution_count": null,
      "metadata": {
        "id": "Uo_bQONIajlg"
      },
      "outputs": [],
      "source": [
        "!pip install qrcode[pil]\n",
        "import qrcode\n",
        "\n",
        "# Function to generate a QR code\n",
        "def generate_qr_code(data, filename):\n",
        "    qr = qrcode.QRCode(\n",
        "        version=1,\n",
        "        error_correction=qrcode.constants.ERROR_CORRECT_L,\n",
        "        box_size=10,\n",
        "        border=4,\n",
        "    )\n",
        "    qr.add_data(data)\n",
        "    qr.make(fit=True)\n",
        "\n",
        "    img = qr.make_image(fill_color=\"black\", back_color=\"white\")\n",
        "    img.save(filename)\n",
        "\n",
        "if __name__ == \"__main__\":\n",
        "    data = input(\"Enter the text or URL for the QR code: \")\n",
        "    filename = input(\"Enter the filename to save the QR code image (e.g., my_qr_code.png): \")\n",
        "\n",
        "    generate_qr_code(data, filename)\n",
        "    print(f\"QR code saved as {filename}\")"
      ]
    },
    {
      "cell_type": "code",
      "execution_count": null,
      "metadata": {
        "id": "l6_dcUfEfWzg"
      },
      "outputs": [],
      "source": [
        "!pip install qrcode[pil]\n",
        "import qrcode\n",
        "features=qrcode.Qrcode(version=1, box_size=40, border=3)\n",
        "features.add_data(\"data\")\n",
        "features.make(fit=True)\n",
        "generate_image=features.make(fill_color=\"black\",back_color=\"white\")\n",
        "generate_image.save(\"image1.png\")"
      ]
    }
  ],
  "metadata": {
    "colab": {
      "provenance": [],
      "authorship_tag": "ABX9TyMAkRWl1XFrXJt8V6QQ7wHA",
      "include_colab_link": true
    },
    "kernelspec": {
      "display_name": "Python 3",
      "name": "python3"
    },
    "language_info": {
      "name": "python"
    }
  },
  "nbformat": 4,
  "nbformat_minor": 0
}